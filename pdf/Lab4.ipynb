{
 "cells": [
  {
   "cell_type": "code",
   "execution_count": 2,
   "metadata": {},
   "outputs": [],
   "source": [
    "from cvxopt import matrix, solvers\n",
    "import numpy as np\n",
    "import random"
   ]
  },
  {
   "cell_type": "code",
   "execution_count": 21,
   "metadata": {},
   "outputs": [],
   "source": [
    "def bp(X, y):\n",
    "    '''\n",
    "    (X,y): Matriz de datos y vector de respuesta [X.shape=(m,p), y.shape=(m,)]\n",
    "    (betahat): Solución [betahat.shape=(1,)]\n",
    "    '''\n",
    "    \n",
    "    m=matrix(X.shape[0])\n",
    "    p=matrix(X.shape[1])\n",
    "    c=matrix(np.ones(2*p[0]))\n",
    "    A=matrix(np.append(X,-X, axis=1))\n",
    "    b=matrix(y)\n",
    "    G=matrix(-np.identity(2*p[0]))\n",
    "    h=matrix(np.zeros(2*p[0]))\n",
    "    \n",
    "    sol = solvers.conelp(c, G, h,A=A,b=b)\n",
    "    res = sol['x']\n",
    "    res = np.array(res).flatten()\n",
    "    betamas,betamenos=np.split(res,2)\n",
    "    betahat = betamas-betamenos\n",
    "    \n",
    "    return betahat"
   ]
  },
  {
   "cell_type": "code",
   "execution_count": 22,
   "metadata": {},
   "outputs": [],
   "source": [
    "def datos(m,p,k):\n",
    "    np.random.seed(1111)\n",
    "    random.seed(1111)\n",
    "    X = np.random.normal(0,1,(m,p))\n",
    "    beta = np.random.normal(0,1,(p,1))\n",
    "    beta[random.sample(range(0,p), k=p-k)]=0\n",
    "    y=np.matmul(X,beta)\n",
    "    return X,y.squeeze(), beta.squeeze()"
   ]
  },
  {
   "cell_type": "code",
   "execution_count": 23,
   "metadata": {},
   "outputs": [
    {
     "name": "stdout",
     "output_type": "stream",
     "text": [
      "     pcost       dcost       gap    pres   dres   k/t\n",
      " 0: -5.5511e-17 -1.7237e-16  4e+02  2e+01  2e-16  1e+00\n",
      " 1:  6.9780e-01  6.9907e-01  6e+01  3e+00  2e-16  1e-01\n",
      " 2:  2.7180e+00  2.7198e+00  1e+01  9e-01  7e-16  4e-02\n",
      " 3:  2.8037e+00  2.8062e+00  4e+00  3e-01  5e-16  1e-02\n",
      " 4:  3.1002e+00  3.1003e+00  9e-02  5e-03  6e-16  3e-04\n",
      " 5:  3.1036e+00  3.1036e+00  9e-04  5e-05  3e-16  3e-06\n",
      " 6:  3.1036e+00  3.1036e+00  9e-06  5e-07  3e-16  3e-08\n",
      " 7:  3.1036e+00  3.1036e+00  9e-08  5e-09  3e-16  3e-10\n",
      "Optimal solution found.\n"
     ]
    }
   ],
   "source": [
    "X,y,beta=datos(75,150,5)\n",
    "betahat=bp(X,y)"
   ]
  },
  {
   "cell_type": "code",
   "execution_count": 24,
   "metadata": {},
   "outputs": [
    {
     "data": {
      "text/plain": [
       "2.050021836322254e-09"
      ]
     },
     "execution_count": 24,
     "metadata": {},
     "output_type": "execute_result"
    }
   ],
   "source": [
    "np.linalg.norm(betahat-beta)"
   ]
  },
  {
   "cell_type": "code",
   "execution_count": 25,
   "metadata": {},
   "outputs": [
    {
     "name": "stdout",
     "output_type": "stream",
     "text": [
      "Soporte de beta: [-0.9956062679340661, 0.8167211788085769]\n",
      "Soporte de betahat: [-0.9956062674257806, 0.8167211781936211]\n"
     ]
    }
   ],
   "source": [
    "print(f'''Soporte de beta: [{str(min(beta))}, {str(max(beta))}]\n",
    "Soporte de betahat: [{str(min(betahat))}, {str(max(betahat))}]''')"
   ]
  },
  {
   "cell_type": "markdown",
   "metadata": {},
   "source": [
    "Supongamos un conjunto de datos con $p\\gg m$ al que se quiere ajustar un modelo lineal. Para encontrar la solución más simple dentro de la infinidad posible, elegimos una que tenga el menor número de entradas no cero. Es decir, si definimos\n",
    "\n",
    "\\begin{equation} |\\beta|_0 = #{j\\in [p] : \\beta_j\\neq 0} \\end{equation}\n",
    "\n",
    "elegimos la beta que minimice $|\\beta|_0$ y satisfaga $X'\\beta=y$.\n",
    "\n",
    "Primero, notar que $|\\beta|_q \\rightarrow |\\beta|_0$ cuando $q\\rightarrow 0^+$, pues las entradas que ya son cero lo siguen siendo sin importar el exponente y las que no son cero se van a uno cuando $q\\rightarrow 0^+$. El resultado se sigue sumando límites.\n",
    "Sin embargo, no es una norma porque por ejemplo, $|(1, 0)|_0=1$, $|(-1, 0)|=1$ y la norma cero de su suma es cero.\n",
    "\n",
    "Se necesitarían $2^p$ evaluaciones para hacerlo por fuerza bruta incluso sin considerar el error.\n",
    "\n",
    "Mostraremos que el problema es NP duro reduciendo el problema de cubiertas exactas de 3-conjuntos a uno de esta forma en tiempo polinomial.\n",
    "\n",
    "Dados los conjuntos $S_j$, construimos una matriz $X\\in M_{m\\times p}(\\mathbb{R})$ con columnas $(x_1 \\mid \\cdots \\mid x_p)$ donde $(x_i)_j = 1$ si y sólo si $j \\in S_i$. Esta construcción es $O(mp)$.\n",
    "\n",
    "Sea $y \\in \\mathbb{R}^m$ el vector de unos. Si resolvemos el problema de minimizar $(1)$, obtendremos un vector $\\beta$ con muchas entradas cero. Al multiplicar por nuestra matriz $X$, las columnas donde $\\beta$ sea cero se van a cancelar."
   ]
  },
  {
   "cell_type": "code",
   "execution_count": null,
   "metadata": {},
   "outputs": [],
   "source": []
  }
 ],
 "metadata": {
  "kernelspec": {
   "display_name": "Python 3",
   "language": "python",
   "name": "python3"
  },
  "language_info": {
   "codemirror_mode": {
    "name": "ipython",
    "version": 3
   },
   "file_extension": ".py",
   "mimetype": "text/x-python",
   "name": "python",
   "nbconvert_exporter": "python",
   "pygments_lexer": "ipython3",
   "version": "3.6.9"
  }
 },
 "nbformat": 4,
 "nbformat_minor": 2
}
